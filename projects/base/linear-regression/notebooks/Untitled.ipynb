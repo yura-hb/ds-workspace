{
 "cells": [
  {
   "cell_type": "code",
   "execution_count": 1,
   "id": "1c5a13e6",
   "metadata": {},
   "outputs": [
    {
     "data": {
      "text/plain": [
       "<kedro.io.data_catalog.DataCatalog at 0x14b778040>"
      ]
     },
     "execution_count": 1,
     "metadata": {},
     "output_type": "execute_result"
    }
   ],
   "source": [
    "import pandas as pd\n",
    "\n",
    "catalog"
   ]
  },
  {
   "cell_type": "code",
   "execution_count": 4,
   "id": "7a2c8514",
   "metadata": {},
   "outputs": [
    {
     "data": {
      "text/html": [
       "<pre style=\"white-space:pre;overflow-x:auto;line-height:normal;font-family:Menlo,'DejaVu Sans Mono',consolas,'Courier New',monospace\"><span style=\"color: #7fbfbf; text-decoration-color: #7fbfbf\">[06/08/23 15:33:06] </span><span style=\"color: #000080; text-decoration-color: #000080\">INFO    </span> Loading data from <span style=\"color: #008000; text-decoration-color: #008000\">'dataset'</span> <span style=\"font-weight: bold\">(</span>CSVDataSet<span style=\"font-weight: bold\">)</span><span style=\"color: #808000; text-decoration-color: #808000\">...</span>                        <a href=\"file:///opt/homebrew/Caskroom/miniconda/base/envs/kedro/lib/python3.10/site-packages/kedro/io/data_catalog.py\" target=\"_blank\"><span style=\"color: #7f7f7f; text-decoration-color: #7f7f7f\">data_catalog.py</span></a><span style=\"color: #7f7f7f; text-decoration-color: #7f7f7f\">:</span><a href=\"file:///opt/homebrew/Caskroom/miniconda/base/envs/kedro/lib/python3.10/site-packages/kedro/io/data_catalog.py#345\" target=\"_blank\"><span style=\"color: #7f7f7f; text-decoration-color: #7f7f7f\">345</span></a>\n",
       "</pre>\n"
      ],
      "text/plain": [
       "\u001B[2;36m[06/08/23 15:33:06]\u001B[0m\u001B[2;36m \u001B[0m\u001B[34mINFO    \u001B[0m Loading data from \u001B[32m'dataset'\u001B[0m \u001B[1m(\u001B[0mCSVDataSet\u001B[1m)\u001B[0m\u001B[33m...\u001B[0m                        \u001B]8;id=297752;file:///opt/homebrew/Caskroom/miniconda/base/envs/kedro/lib/python3.10/site-packages/kedro/io/data_catalog.py\u001B\\\u001B[2mdata_catalog.py\u001B[0m\u001B]8;;\u001B\\\u001B[2m:\u001B[0m\u001B]8;id=906381;file:///opt/homebrew/Caskroom/miniconda/base/envs/kedro/lib/python3.10/site-packages/kedro/io/data_catalog.py#345\u001B\\\u001B[2m345\u001B[0m\u001B]8;;\u001B\\\n"
      ]
     },
     "metadata": {},
     "output_type": "display_data"
    },
    {
     "data": {
      "text/html": [
       "<pre style=\"white-space:pre;overflow-x:auto;line-height:normal;font-family:Menlo,'DejaVu Sans Mono',consolas,'Courier New',monospace\"><span style=\"color: #7fbfbf; text-decoration-color: #7fbfbf\">                    </span><span style=\"color: #000080; text-decoration-color: #000080\">INFO    </span> Loading data from <span style=\"color: #008000; text-decoration-color: #008000\">'data_preprocess.X'</span> <span style=\"font-weight: bold\">(</span>ParquetDataSet<span style=\"font-weight: bold\">)</span><span style=\"color: #808000; text-decoration-color: #808000\">...</span>          <a href=\"file:///opt/homebrew/Caskroom/miniconda/base/envs/kedro/lib/python3.10/site-packages/kedro/io/data_catalog.py\" target=\"_blank\"><span style=\"color: #7f7f7f; text-decoration-color: #7f7f7f\">data_catalog.py</span></a><span style=\"color: #7f7f7f; text-decoration-color: #7f7f7f\">:</span><a href=\"file:///opt/homebrew/Caskroom/miniconda/base/envs/kedro/lib/python3.10/site-packages/kedro/io/data_catalog.py#345\" target=\"_blank\"><span style=\"color: #7f7f7f; text-decoration-color: #7f7f7f\">345</span></a>\n",
       "</pre>\n"
      ],
      "text/plain": [
       "\u001B[2;36m                   \u001B[0m\u001B[2;36m \u001B[0m\u001B[34mINFO    \u001B[0m Loading data from \u001B[32m'data_preprocess.X'\u001B[0m \u001B[1m(\u001B[0mParquetDataSet\u001B[1m)\u001B[0m\u001B[33m...\u001B[0m          \u001B]8;id=737052;file:///opt/homebrew/Caskroom/miniconda/base/envs/kedro/lib/python3.10/site-packages/kedro/io/data_catalog.py\u001B\\\u001B[2mdata_catalog.py\u001B[0m\u001B]8;;\u001B\\\u001B[2m:\u001B[0m\u001B]8;id=935252;file:///opt/homebrew/Caskroom/miniconda/base/envs/kedro/lib/python3.10/site-packages/kedro/io/data_catalog.py#345\u001B\\\u001B[2m345\u001B[0m\u001B]8;;\u001B\\\n"
      ]
     },
     "metadata": {},
     "output_type": "display_data"
    },
    {
     "data": {
      "text/html": [
       "<pre style=\"white-space:pre;overflow-x:auto;line-height:normal;font-family:Menlo,'DejaVu Sans Mono',consolas,'Courier New',monospace\"><span style=\"color: #7fbfbf; text-decoration-color: #7fbfbf\">                    </span><span style=\"color: #000080; text-decoration-color: #000080\">INFO    </span> Loading data from <span style=\"color: #008000; text-decoration-color: #008000\">'split.X_train'</span> <span style=\"font-weight: bold\">(</span>ParquetDataSet<span style=\"font-weight: bold\">)</span><span style=\"color: #808000; text-decoration-color: #808000\">...</span>              <a href=\"file:///opt/homebrew/Caskroom/miniconda/base/envs/kedro/lib/python3.10/site-packages/kedro/io/data_catalog.py\" target=\"_blank\"><span style=\"color: #7f7f7f; text-decoration-color: #7f7f7f\">data_catalog.py</span></a><span style=\"color: #7f7f7f; text-decoration-color: #7f7f7f\">:</span><a href=\"file:///opt/homebrew/Caskroom/miniconda/base/envs/kedro/lib/python3.10/site-packages/kedro/io/data_catalog.py#345\" target=\"_blank\"><span style=\"color: #7f7f7f; text-decoration-color: #7f7f7f\">345</span></a>\n",
       "</pre>\n"
      ],
      "text/plain": [
       "\u001B[2;36m                   \u001B[0m\u001B[2;36m \u001B[0m\u001B[34mINFO    \u001B[0m Loading data from \u001B[32m'split.X_train'\u001B[0m \u001B[1m(\u001B[0mParquetDataSet\u001B[1m)\u001B[0m\u001B[33m...\u001B[0m              \u001B]8;id=847409;file:///opt/homebrew/Caskroom/miniconda/base/envs/kedro/lib/python3.10/site-packages/kedro/io/data_catalog.py\u001B\\\u001B[2mdata_catalog.py\u001B[0m\u001B]8;;\u001B\\\u001B[2m:\u001B[0m\u001B]8;id=107663;file:///opt/homebrew/Caskroom/miniconda/base/envs/kedro/lib/python3.10/site-packages/kedro/io/data_catalog.py#345\u001B\\\u001B[2m345\u001B[0m\u001B]8;;\u001B\\\n"
      ]
     },
     "metadata": {},
     "output_type": "display_data"
    },
    {
     "data": {
      "text/html": [
       "<pre style=\"white-space:pre;overflow-x:auto;line-height:normal;font-family:Menlo,'DejaVu Sans Mono',consolas,'Courier New',monospace\"><span style=\"color: #7fbfbf; text-decoration-color: #7fbfbf\">                    </span><span style=\"color: #000080; text-decoration-color: #000080\">INFO    </span> Loading data from <span style=\"color: #008000; text-decoration-color: #008000\">'split.y_train'</span> <span style=\"font-weight: bold\">(</span>ParquetDataSet<span style=\"font-weight: bold\">)</span><span style=\"color: #808000; text-decoration-color: #808000\">...</span>              <a href=\"file:///opt/homebrew/Caskroom/miniconda/base/envs/kedro/lib/python3.10/site-packages/kedro/io/data_catalog.py\" target=\"_blank\"><span style=\"color: #7f7f7f; text-decoration-color: #7f7f7f\">data_catalog.py</span></a><span style=\"color: #7f7f7f; text-decoration-color: #7f7f7f\">:</span><a href=\"file:///opt/homebrew/Caskroom/miniconda/base/envs/kedro/lib/python3.10/site-packages/kedro/io/data_catalog.py#345\" target=\"_blank\"><span style=\"color: #7f7f7f; text-decoration-color: #7f7f7f\">345</span></a>\n",
       "</pre>\n"
      ],
      "text/plain": [
       "\u001B[2;36m                   \u001B[0m\u001B[2;36m \u001B[0m\u001B[34mINFO    \u001B[0m Loading data from \u001B[32m'split.y_train'\u001B[0m \u001B[1m(\u001B[0mParquetDataSet\u001B[1m)\u001B[0m\u001B[33m...\u001B[0m              \u001B]8;id=470355;file:///opt/homebrew/Caskroom/miniconda/base/envs/kedro/lib/python3.10/site-packages/kedro/io/data_catalog.py\u001B\\\u001B[2mdata_catalog.py\u001B[0m\u001B]8;;\u001B\\\u001B[2m:\u001B[0m\u001B]8;id=710872;file:///opt/homebrew/Caskroom/miniconda/base/envs/kedro/lib/python3.10/site-packages/kedro/io/data_catalog.py#345\u001B\\\u001B[2m345\u001B[0m\u001B]8;;\u001B\\\n"
      ]
     },
     "metadata": {},
     "output_type": "display_data"
    }
   ],
   "source": [
    "X = catalog.load('dataset')\n",
    "X_processed = catalog.load('data_preprocess.X')\n",
    "X_train = catalog.load('split.X_train')\n",
    "y_train = catalog.load('split.y_train')"
   ]
  },
  {
   "cell_type": "code",
   "execution_count": 5,
   "id": "fedf8157",
   "metadata": {},
   "outputs": [
    {
     "data": {
      "text/plain": [
       "array([<class 'float'>, <class 'str'>], dtype=object)"
      ]
     },
     "execution_count": 5,
     "metadata": {},
     "output_type": "execute_result"
    }
   ],
   "source": [
    "X['PoorWeather'].apply(type).unique()"
   ]
  },
  {
   "cell_type": "code",
   "execution_count": 6,
   "id": "c03d4d63",
   "metadata": {},
   "outputs": [
    {
     "data": {
      "text/plain": [
       "'1945-9-9'"
      ]
     },
     "execution_count": 6,
     "metadata": {},
     "output_type": "execute_result"
    }
   ],
   "source": [
    "X['Date'].max()"
   ]
  },
  {
   "cell_type": "code",
   "execution_count": 7,
   "id": "e8e72f61",
   "metadata": {},
   "outputs": [
    {
     "data": {
      "text/plain": [
       "array([10001, 10002, 10101, 10102, 10502, 10505, 10701, 10703, 10704,\n",
       "       10705, 10718, 10802, 10803, 10804, 10806, 10807, 11101, 11103,\n",
       "       11501, 11601, 11604, 11606, 11610, 11615, 11701, 11704, 11801,\n",
       "       11901, 11902, 12001, 12101, 12701, 12702, 12706, 12801, 13002,\n",
       "       13005, 13007, 13013, 13201, 13601, 15027, 16101, 16201, 16202,\n",
       "       16405, 16407, 16504, 20501, 20602, 21501, 22502, 22504, 22507,\n",
       "       22508, 22509, 30001, 31001, 31101, 31302, 31401, 31501, 31701,\n",
       "       32301, 32501, 32503, 32504, 32601, 32602, 32603, 32701, 32702,\n",
       "       32801, 32803, 32805, 32812, 32815, 32904, 32906, 32907, 33003,\n",
       "       33013, 33014, 33019, 33023, 33031, 33044, 33109, 33111, 33117,\n",
       "       33121, 33123, 33205, 33206, 33303, 33305, 33307, 33401, 33405,\n",
       "       33406, 33501, 34002, 34003, 34005, 34012, 34013, 34017, 34018,\n",
       "       34022, 34101, 34104, 34105, 34109, 34111, 34113, 34123, 34139,\n",
       "       34147, 34150, 40601, 41204, 41207, 42204, 42206, 42401, 43201,\n",
       "       43302, 43305, 43307, 44401, 50301, 50302, 50303, 50304, 50401,\n",
       "       50403, 50801, 50802, 60701, 61501, 61502, 62701, 80411, 80412,\n",
       "       80425, 80504, 80509, 80510, 81404, 81601, 81702, 82402, 82403,\n",
       "       82404, 82405, 82501, 82502, 82503, 82506])"
      ]
     },
     "execution_count": 7,
     "metadata": {},
     "output_type": "execute_result"
    }
   ],
   "source": [
    "X['STA'].unique()"
   ]
  },
  {
   "cell_type": "code",
   "execution_count": 8,
   "id": "f8019bee",
   "metadata": {},
   "outputs": [
    {
     "data": {
      "text/plain": [
       "array([nan, '1', '1     1', '1 1', '1     1  1', '1  1', '1        1',\n",
       "       '0', '1   1 1', '1    1', '1     0', '1000', '1001', '100000',\n",
       "       '1000001000', '101000', '101001', '1000001001', '1000101001',\n",
       "       '100001', '1000000000', '1000101000', '1010001000', '1000100000',\n",
       "       '1000100001', '1010001001', '10001001', '11', '11 1', '11    1',\n",
       "       '1100000', '1 1  1', '1 0  1', '1 0', '1   1 1  1', '1000000',\n",
       "       '1101000', '1101001', '1   1'], dtype=object)"
      ]
     },
     "execution_count": 8,
     "metadata": {},
     "output_type": "execute_result"
    }
   ],
   "source": [
    "X['TSHDSBRSGF'].unique()"
   ]
  },
  {
   "cell_type": "code",
   "execution_count": 9,
   "id": "e57d3573",
   "metadata": {},
   "outputs": [
    {
     "data": {
      "text/plain": [
       "array(['1.016', '0', '2.54', 'T', '3.556', '0.508', '0.254', '1.778',\n",
       "       '3.302', '0.762', '5.588', '5.08', '2.032', '25.654', '40.132',\n",
       "       '19.05', '23.876', '4.064', '12.192', '2.794', '33.274', '19.304',\n",
       "       '47.752', '6.35', '3.048', '8.382', '10.16', '27.178', '30.48',\n",
       "       '45.212', '10.668', '15.494', '57.658', '58.166', '11.43',\n",
       "       '31.242', '17.78', '26.924', '26.67', '6.604', '5.334', '4.826',\n",
       "       '7.62', '8.636', '7.874', '12.446', '90.932', '13.462', '11.938',\n",
       "       '5.842', '4.318', '6.096', '9.144', '4.572', '9.906', '9.652',\n",
       "       '1.524', '13.97', '17.272', '33.528', '1.27', '13.716', '8.128',\n",
       "       '22.352', '39.116', '36.068', '98.044', '3.81', '14.986', '78.232',\n",
       "       '146.304', '14.732', '21.844', '120.904', '42.164', '23.368',\n",
       "       '21.082', '44.958', '2.286', '50.038', '17.526', '51.054', '7.112',\n",
       "       '25.4', '7.366', '16.256', '46.736', '8.89', '24.638', '11.684',\n",
       "       '17.018', '144.78', '18.034', '50.8', '106.426', '36.576', '53.34',\n",
       "       '34.798', '12.954', '26.416', '85.598', '47.498', '12.7', '11.176',\n",
       "       '59.182', '33.782', '40.894', '28.194', '24.892', '14.478',\n",
       "       '71.628', '102.108', '31.496', '36.322', '37.846', '35.56',\n",
       "       '31.75', '49.022', '69.85', '36.83', '19.558', '127.508', '64.77',\n",
       "       '105.156', '16.002', '75.184', '143.51', '60.96', '68.58', '55.88',\n",
       "       '23.622', '126.238', '70.358', '6.858', '16.764', '24.13',\n",
       "       '52.832', '25.146', '74.676', '16.51', '65.024', '51.816',\n",
       "       '13.208', '30.226', '29.972', '215.9', '21.336', '76.962',\n",
       "       '29.464', '9.398', '15.748', '45.974', '41.148', '48.514', '33.02',\n",
       "       '10.414', '18.796', '14.224', '68.326', '80.264', '70.866',\n",
       "       '35.814', '22.86', '30.988', '20.828', '34.036', '20.066',\n",
       "       '27.432', '62.23', '37.338', '55.372', '73.66', '18.288',\n",
       "       '114.808', '56.388', '273.558', '27.686', '111.506', '101.346',\n",
       "       '120.142', '116.586', '66.294', '32.766', '55.118', '30.734',\n",
       "       '46.228', '68.072', '62.484', '72.644', '203.708', '15.24',\n",
       "       '61.214', '48.768', '10.922', '54.61', '81.788', '38.1', '37.592',\n",
       "       '18.542', '49.784', '32.258', '94.488', '67.818', '41.402',\n",
       "       '22.606', '43.434', '27.94', '61.468', '25.908', '54.102',\n",
       "       '52.578', '46.99', '177.8', '28.956', '119.38', '44.45', '85.344',\n",
       "       '95.758', '91.948', '38.354', '39.624', '80.01', '40.386',\n",
       "       '35.306', '88.646', '65.786', '136.398', '77.978', '116.84',\n",
       "       '75.438', '69.596', '42.672', '39.37', '20.574', '39.878',\n",
       "       '42.926', '38.608', '155.448', '140.716', '148.336', '19.812',\n",
       "       '60.706', '97.028', '57.912', '72.898', '65.532', '71.882',\n",
       "       '21.59', '22.098', '34.29', '35.052', '43.18', '50.546', '20.32',\n",
       "       '70.612', '67.31', '28.448', '32.004', '48.006', '76.2', '37.084',\n",
       "       '48.26', '43.942', '76.708', '52.07', '52.324', '120.396',\n",
       "       '80.518', '63.5', '125.984', '116.332', '46.482', '76.454',\n",
       "       '34.544', '42.418', '29.21', '81.28', '24.384', '58.674',\n",
       "       '108.204', '173.736', '49.53', '225.298', '206.248', '162.052',\n",
       "       '87.122', '88.138', '103.632', '82.804', '93.726', '28.702',\n",
       "       '99.06', '61.976', '51.308', '110.998', '93.98', '107.442',\n",
       "       '23.114', '92.456', '57.15', '84.074', '40.64', '62.738', '41.656',\n",
       "       '32.512', '50.292', '26.162', '53.848', '73.914', '64.516',\n",
       "       '38.862', '84.836', '103.886', '41.91', '56.896', '82.042',\n",
       "       '66.548', '60.198', '53.086', '54.356', '45.72', '29.718',\n",
       "       '43.688', '67.056', '70.104', '69.342', '86.868', '86.106',\n",
       "       '58.42', '74.168', '68.834', '97.79', '44.704', '63.754', '56.134',\n",
       "       '66.04', '85.852', '64.262', '85.09', '122.936', '44.196',\n",
       "       '231.648', '83.058', '121.666', '56.642', '51.562', '113.538',\n",
       "       '75.946', '102.362', '54.864', '78.994', '75.692', '94.742',\n",
       "       '47.244', '74.422', '152.4', '71.374', '79.248', '130.048',\n",
       "       '97.536', '99.314', '238.76', '102.87', '82.296', '94.234',\n",
       "       '125.73', '59.436', '112.014', '182.372', '127', '88.392',\n",
       "       '211.328', '82.55', '107.696', '73.406', '124.46', '163.83',\n",
       "       '107.95', '62.992', '118.618', '136.652', '55.626', '101.092',\n",
       "       '90.424', '57.404', '98.552', '90.678', '95.504', '159.512',\n",
       "       '103.378', '139.446', '234.95', '133.35', '100.33', '63.246',\n",
       "       '73.152', '81.534', '157.48', '64.008', '77.47', '77.216', '59.69',\n",
       "       '71.12', '124.206', '59.944', '104.394', '253.238', '86.614',\n",
       "       '49.276', '77.724', '123.698', '106.68', '97.282', '45.466',\n",
       "       '126.492', '53.594', '123.952', '65.278', '92.71', '79.756',\n",
       "       '166.624', '74.93', '95.25', '61.722', '148.59', '248.92',\n",
       "       '100.584', '147.828', '257.048', '307.34', '184.15', '87.376',\n",
       "       '134.874', '206.756', '110.744', '79.502', '67.564', '81.026',\n",
       "       '89.408', '164.338', '101.854', '90.17', '134.62', '58.928',\n",
       "       '83.82', '121.92', '69.088', '91.694', '60.452', '105.41',\n",
       "       '143.002', '137.922', '87.884', '88.9', '112.776', '78.486',\n",
       "       '72.136', '194.564', '112.522', '134.112', '128.778', '83.312',\n",
       "       '96.774', '168.656', '78.74', '117.348', '80.772', '125.222',\n",
       "       '182.626', '132.588', '209.804', '116.078', '89.154', '129.54',\n",
       "       '96.266', '86.36', '117.602', '83.566', '92.964', '109.982',\n",
       "       '92.202', '149.352', '66.802', '122.174', '233.172', '200.406',\n",
       "       '124.968', '89.916', '139.954', '184.404', '91.44', '89.662',\n",
       "       '100.838', '101.6', '119.634', '98.298', '94.996', '132.842',\n",
       "       '84.328', '130.556', '99.822', '109.728', '91.186', '96.52',\n",
       "       '106.172', '72.39', '104.648', '238.506', '139.192', '132.334',\n",
       "       '113.03', '175.006', '124.714', '150.114', '125.476', '119.888',\n",
       "       '133.858', '167.386', '114.554', '115.316', '84.582', '185.166',\n",
       "       '104.902', '111.252', '164.846', '118.872', '167.64', '163.322',\n",
       "       '111.76', '104.14', '194.31', '140.208', '110.236', '153.162',\n",
       "       '165.1', '242.316', '154.686', '105.918', '133.096', '161.036'],\n",
       "      dtype=object)"
      ]
     },
     "execution_count": 9,
     "metadata": {},
     "output_type": "execute_result"
    }
   ],
   "source": [
    "X['Precip'].unique()"
   ]
  },
  {
   "cell_type": "code",
   "execution_count": 10,
   "id": "7b2e5a51",
   "metadata": {},
   "outputs": [
    {
     "data": {
      "text/plain": [
       "array([   nan, 29.632, 59.264, 50.004, 40.744, 51.856, 44.448, 57.412,\n",
       "       53.708, 42.596, 62.968, 68.524, 61.116, 46.3  , 38.892, 55.56 ,\n",
       "       31.484, 37.04 , 74.08 , 64.82 , 48.152, 35.188, 27.78 , 33.336,\n",
       "       20.372, 22.224, 24.076, 25.928, 75.932, 66.672, 18.52 ])"
      ]
     },
     "execution_count": 10,
     "metadata": {},
     "output_type": "execute_result"
    }
   ],
   "source": [
    "X['WindGustSpd'].unique()"
   ]
  },
  {
   "cell_type": "markdown",
   "id": "c38aebdb",
   "metadata": {},
   "source": [
    "After removing columns will small number of existing changes. We can see, that a lot of preprocessing changes can be done\n",
    "\n",
    "1. STA represents a distinct meteorology station. Each station may have different location and hence, different weather conditions. We can solve this either by training a linear regression for each station or at least perform one-hot encoding.\n",
    "2. `TSHDSBRSGF` column represents a set of boolean flags, which is `Day with: Thunder; Sleet; Hail; Dust or Sand; Smoke or Haze; Blowing Snow; Rain; Snow; Glaze; Fog; 0 = No, 1 = Yes`. We will need to split it into separate columns to correctly perform regression on these columns.\n",
    "3. MIN, MAX, MEA represent temperatures in Fahrenheit, which actually leak the actual temperature, so we remove them from the training dataset.\n",
    "4. The date can be quite informative for regression model. We don't want to choose YYYYMMDD format, because this may introduce bias in the model (For instance, the end and the start of the year...). Instead of it, we will use KSP format.\n",
    "5. The precipation column contains 'T' value, which means, that there is a trace of precipation, but it isn't measurable. We want a numerical encoding of the precipation, so we will do the following:\n",
    "   1. Replace 'T' with 0\n",
    "   2. Create a new boolean feature column for 'T'\n",
    "In addition to this, `PRCP` is the same as `Precip`, but in different scale. So drop it.\n",
    "6. The same logic as in previous point applies to `Snowfall` and `SNF` columns\n",
    "7. The `PoorWeather` is the same as the `TSHDSBRSGF`, so we will drop it\n",
    "8. `WindGustSpd` is the same as `SPD`. So drop it.\n",
    "8. Other values will be filled with zero"
   ]
  },
  {
   "cell_type": "markdown",
   "id": "1cf146e6",
   "metadata": {},
   "source": [
    "After encoding, there are no object values"
   ]
  },
  {
   "cell_type": "code",
   "execution_count": 11,
   "id": "fbb0f2f6",
   "metadata": {},
   "outputs": [
    {
     "data": {
      "text/html": [
       "<div>\n",
       "<style scoped>\n",
       "    .dataframe tbody tr th:only-of-type {\n",
       "        vertical-align: middle;\n",
       "    }\n",
       "\n",
       "    .dataframe tbody tr th {\n",
       "        vertical-align: top;\n",
       "    }\n",
       "\n",
       "    .dataframe thead th {\n",
       "        text-align: right;\n",
       "    }\n",
       "</style>\n",
       "<table border=\"1\" class=\"dataframe\">\n",
       "  <thead>\n",
       "    <tr style=\"text-align: right;\">\n",
       "      <th></th>\n",
       "      <th>PGT</th>\n",
       "      <th>DR</th>\n",
       "      <th>WindGustSpd</th>\n",
       "      <th>Snowfall</th>\n",
       "      <th>Date</th>\n",
       "      <th>is_traceable_precip</th>\n",
       "      <th>is_traceable_snow</th>\n",
       "      <th>thunder</th>\n",
       "      <th>sleet</th>\n",
       "      <th>hail</th>\n",
       "      <th>dust</th>\n",
       "      <th>smoke</th>\n",
       "      <th>blowing_snow</th>\n",
       "      <th>rain</th>\n",
       "      <th>snow</th>\n",
       "      <th>fog</th>\n",
       "      <th>is_observed</th>\n",
       "      <th>STA_10001</th>\n",
       "      <th>STA_10002</th>\n",
       "      <th>STA_10101</th>\n",
       "    </tr>\n",
       "  </thead>\n",
       "  <tbody>\n",
       "    <tr>\n",
       "      <th>11496</th>\n",
       "      <td>0.0</td>\n",
       "      <td>0.0</td>\n",
       "      <td>0.0</td>\n",
       "      <td>0.0</td>\n",
       "      <td>2.808219</td>\n",
       "      <td>False</td>\n",
       "      <td>False</td>\n",
       "      <td>True</td>\n",
       "      <td>False</td>\n",
       "      <td>False</td>\n",
       "      <td>False</td>\n",
       "      <td>False</td>\n",
       "      <td>False</td>\n",
       "      <td>True</td>\n",
       "      <td>False</td>\n",
       "      <td>False</td>\n",
       "      <td>True</td>\n",
       "      <td>0</td>\n",
       "      <td>0</td>\n",
       "      <td>0</td>\n",
       "    </tr>\n",
       "    <tr>\n",
       "      <th>55335</th>\n",
       "      <td>0.0</td>\n",
       "      <td>0.0</td>\n",
       "      <td>0.0</td>\n",
       "      <td>0.0</td>\n",
       "      <td>2.287671</td>\n",
       "      <td>True</td>\n",
       "      <td>False</td>\n",
       "      <td>False</td>\n",
       "      <td>False</td>\n",
       "      <td>False</td>\n",
       "      <td>False</td>\n",
       "      <td>False</td>\n",
       "      <td>False</td>\n",
       "      <td>False</td>\n",
       "      <td>False</td>\n",
       "      <td>False</td>\n",
       "      <td>False</td>\n",
       "      <td>0</td>\n",
       "      <td>0</td>\n",
       "      <td>0</td>\n",
       "    </tr>\n",
       "    <tr>\n",
       "      <th>33325</th>\n",
       "      <td>0.0</td>\n",
       "      <td>0.0</td>\n",
       "      <td>0.0</td>\n",
       "      <td>0.0</td>\n",
       "      <td>4.535519</td>\n",
       "      <td>False</td>\n",
       "      <td>False</td>\n",
       "      <td>False</td>\n",
       "      <td>False</td>\n",
       "      <td>False</td>\n",
       "      <td>False</td>\n",
       "      <td>False</td>\n",
       "      <td>False</td>\n",
       "      <td>False</td>\n",
       "      <td>False</td>\n",
       "      <td>False</td>\n",
       "      <td>False</td>\n",
       "      <td>0</td>\n",
       "      <td>0</td>\n",
       "      <td>0</td>\n",
       "    </tr>\n",
       "    <tr>\n",
       "      <th>93352</th>\n",
       "      <td>0.0</td>\n",
       "      <td>0.0</td>\n",
       "      <td>0.0</td>\n",
       "      <td>0.0</td>\n",
       "      <td>4.226776</td>\n",
       "      <td>False</td>\n",
       "      <td>False</td>\n",
       "      <td>False</td>\n",
       "      <td>False</td>\n",
       "      <td>False</td>\n",
       "      <td>False</td>\n",
       "      <td>False</td>\n",
       "      <td>False</td>\n",
       "      <td>False</td>\n",
       "      <td>False</td>\n",
       "      <td>False</td>\n",
       "      <td>False</td>\n",
       "      <td>0</td>\n",
       "      <td>0</td>\n",
       "      <td>0</td>\n",
       "    </tr>\n",
       "    <tr>\n",
       "      <th>58125</th>\n",
       "      <td>0.0</td>\n",
       "      <td>0.0</td>\n",
       "      <td>0.0</td>\n",
       "      <td>0.0</td>\n",
       "      <td>0.680328</td>\n",
       "      <td>False</td>\n",
       "      <td>False</td>\n",
       "      <td>False</td>\n",
       "      <td>False</td>\n",
       "      <td>False</td>\n",
       "      <td>False</td>\n",
       "      <td>False</td>\n",
       "      <td>False</td>\n",
       "      <td>False</td>\n",
       "      <td>False</td>\n",
       "      <td>False</td>\n",
       "      <td>False</td>\n",
       "      <td>0</td>\n",
       "      <td>0</td>\n",
       "      <td>0</td>\n",
       "    </tr>\n",
       "    <tr>\n",
       "      <th>...</th>\n",
       "      <td>...</td>\n",
       "      <td>...</td>\n",
       "      <td>...</td>\n",
       "      <td>...</td>\n",
       "      <td>...</td>\n",
       "      <td>...</td>\n",
       "      <td>...</td>\n",
       "      <td>...</td>\n",
       "      <td>...</td>\n",
       "      <td>...</td>\n",
       "      <td>...</td>\n",
       "      <td>...</td>\n",
       "      <td>...</td>\n",
       "      <td>...</td>\n",
       "      <td>...</td>\n",
       "      <td>...</td>\n",
       "      <td>...</td>\n",
       "      <td>...</td>\n",
       "      <td>...</td>\n",
       "      <td>...</td>\n",
       "    </tr>\n",
       "    <tr>\n",
       "      <th>76820</th>\n",
       "      <td>0.0</td>\n",
       "      <td>0.0</td>\n",
       "      <td>0.0</td>\n",
       "      <td>0.0</td>\n",
       "      <td>3.830137</td>\n",
       "      <td>False</td>\n",
       "      <td>False</td>\n",
       "      <td>False</td>\n",
       "      <td>False</td>\n",
       "      <td>False</td>\n",
       "      <td>False</td>\n",
       "      <td>False</td>\n",
       "      <td>False</td>\n",
       "      <td>False</td>\n",
       "      <td>False</td>\n",
       "      <td>False</td>\n",
       "      <td>False</td>\n",
       "      <td>0</td>\n",
       "      <td>0</td>\n",
       "      <td>0</td>\n",
       "    </tr>\n",
       "    <tr>\n",
       "      <th>110268</th>\n",
       "      <td>0.0</td>\n",
       "      <td>0.0</td>\n",
       "      <td>0.0</td>\n",
       "      <td>0.0</td>\n",
       "      <td>5.123288</td>\n",
       "      <td>False</td>\n",
       "      <td>False</td>\n",
       "      <td>False</td>\n",
       "      <td>False</td>\n",
       "      <td>False</td>\n",
       "      <td>False</td>\n",
       "      <td>False</td>\n",
       "      <td>False</td>\n",
       "      <td>False</td>\n",
       "      <td>False</td>\n",
       "      <td>False</td>\n",
       "      <td>False</td>\n",
       "      <td>0</td>\n",
       "      <td>0</td>\n",
       "      <td>0</td>\n",
       "    </tr>\n",
       "    <tr>\n",
       "      <th>103694</th>\n",
       "      <td>0.0</td>\n",
       "      <td>0.0</td>\n",
       "      <td>0.0</td>\n",
       "      <td>0.0</td>\n",
       "      <td>4.193989</td>\n",
       "      <td>False</td>\n",
       "      <td>False</td>\n",
       "      <td>False</td>\n",
       "      <td>False</td>\n",
       "      <td>False</td>\n",
       "      <td>False</td>\n",
       "      <td>False</td>\n",
       "      <td>False</td>\n",
       "      <td>False</td>\n",
       "      <td>False</td>\n",
       "      <td>False</td>\n",
       "      <td>False</td>\n",
       "      <td>0</td>\n",
       "      <td>0</td>\n",
       "      <td>0</td>\n",
       "    </tr>\n",
       "    <tr>\n",
       "      <th>860</th>\n",
       "      <td>0.0</td>\n",
       "      <td>0.0</td>\n",
       "      <td>0.0</td>\n",
       "      <td>0.0</td>\n",
       "      <td>4.855191</td>\n",
       "      <td>False</td>\n",
       "      <td>False</td>\n",
       "      <td>False</td>\n",
       "      <td>False</td>\n",
       "      <td>False</td>\n",
       "      <td>False</td>\n",
       "      <td>False</td>\n",
       "      <td>False</td>\n",
       "      <td>False</td>\n",
       "      <td>False</td>\n",
       "      <td>False</td>\n",
       "      <td>False</td>\n",
       "      <td>1</td>\n",
       "      <td>0</td>\n",
       "      <td>0</td>\n",
       "    </tr>\n",
       "    <tr>\n",
       "      <th>15795</th>\n",
       "      <td>0.0</td>\n",
       "      <td>0.0</td>\n",
       "      <td>0.0</td>\n",
       "      <td>0.0</td>\n",
       "      <td>3.747945</td>\n",
       "      <td>False</td>\n",
       "      <td>False</td>\n",
       "      <td>True</td>\n",
       "      <td>False</td>\n",
       "      <td>False</td>\n",
       "      <td>False</td>\n",
       "      <td>False</td>\n",
       "      <td>False</td>\n",
       "      <td>False</td>\n",
       "      <td>False</td>\n",
       "      <td>False</td>\n",
       "      <td>True</td>\n",
       "      <td>0</td>\n",
       "      <td>0</td>\n",
       "      <td>0</td>\n",
       "    </tr>\n",
       "  </tbody>\n",
       "</table>\n",
       "<p>89280 rows × 20 columns</p>\n",
       "</div>"
      ],
      "text/plain": [
       "        PGT   DR  WindGustSpd  Snowfall      Date  is_traceable_precip  \\\n",
       "11496   0.0  0.0          0.0       0.0  2.808219                False   \n",
       "55335   0.0  0.0          0.0       0.0  2.287671                 True   \n",
       "33325   0.0  0.0          0.0       0.0  4.535519                False   \n",
       "93352   0.0  0.0          0.0       0.0  4.226776                False   \n",
       "58125   0.0  0.0          0.0       0.0  0.680328                False   \n",
       "...     ...  ...          ...       ...       ...                  ...   \n",
       "76820   0.0  0.0          0.0       0.0  3.830137                False   \n",
       "110268  0.0  0.0          0.0       0.0  5.123288                False   \n",
       "103694  0.0  0.0          0.0       0.0  4.193989                False   \n",
       "860     0.0  0.0          0.0       0.0  4.855191                False   \n",
       "15795   0.0  0.0          0.0       0.0  3.747945                False   \n",
       "\n",
       "        is_traceable_snow  thunder  sleet   hail   dust  smoke  blowing_snow  \\\n",
       "11496               False     True  False  False  False  False         False   \n",
       "55335               False    False  False  False  False  False         False   \n",
       "33325               False    False  False  False  False  False         False   \n",
       "93352               False    False  False  False  False  False         False   \n",
       "58125               False    False  False  False  False  False         False   \n",
       "...                   ...      ...    ...    ...    ...    ...           ...   \n",
       "76820               False    False  False  False  False  False         False   \n",
       "110268              False    False  False  False  False  False         False   \n",
       "103694              False    False  False  False  False  False         False   \n",
       "860                 False    False  False  False  False  False         False   \n",
       "15795               False     True  False  False  False  False         False   \n",
       "\n",
       "         rain   snow    fog  is_observed  STA_10001  STA_10002  STA_10101  \n",
       "11496    True  False  False         True          0          0          0  \n",
       "55335   False  False  False        False          0          0          0  \n",
       "33325   False  False  False        False          0          0          0  \n",
       "93352   False  False  False        False          0          0          0  \n",
       "58125   False  False  False        False          0          0          0  \n",
       "...       ...    ...    ...          ...        ...        ...        ...  \n",
       "76820   False  False  False        False          0          0          0  \n",
       "110268  False  False  False        False          0          0          0  \n",
       "103694  False  False  False        False          0          0          0  \n",
       "860     False  False  False        False          1          0          0  \n",
       "15795   False  False  False         True          0          0          0  \n",
       "\n",
       "[89280 rows x 20 columns]"
      ]
     },
     "execution_count": 11,
     "metadata": {},
     "output_type": "execute_result"
    }
   ],
   "source": [
    "X_train[X_train.columns[:20]]"
   ]
  },
  {
   "cell_type": "code",
   "execution_count": 18,
   "id": "babbf6a1",
   "metadata": {},
   "outputs": [
    {
     "data": {
      "text/html": [
       "<div>\n",
       "<style scoped>\n",
       "    .dataframe tbody tr th:only-of-type {\n",
       "        vertical-align: middle;\n",
       "    }\n",
       "\n",
       "    .dataframe tbody tr th {\n",
       "        vertical-align: top;\n",
       "    }\n",
       "\n",
       "    .dataframe thead th {\n",
       "        text-align: right;\n",
       "    }\n",
       "</style>\n",
       "<table border=\"1\" class=\"dataframe\">\n",
       "  <thead>\n",
       "    <tr style=\"text-align: right;\">\n",
       "      <th></th>\n",
       "      <th>WindGustSpd</th>\n",
       "      <th>DR</th>\n",
       "      <th>PGT</th>\n",
       "    </tr>\n",
       "  </thead>\n",
       "  <tbody>\n",
       "    <tr>\n",
       "      <th>51177</th>\n",
       "      <td>29.632</td>\n",
       "      <td>32.0</td>\n",
       "      <td>10.2</td>\n",
       "    </tr>\n",
       "    <tr>\n",
       "      <th>51178</th>\n",
       "      <td>59.264</td>\n",
       "      <td>44.0</td>\n",
       "      <td>10.2</td>\n",
       "    </tr>\n",
       "    <tr>\n",
       "      <th>51179</th>\n",
       "      <td>50.004</td>\n",
       "      <td>32.0</td>\n",
       "      <td>1.1</td>\n",
       "    </tr>\n",
       "    <tr>\n",
       "      <th>51180</th>\n",
       "      <td>40.744</td>\n",
       "      <td>32.0</td>\n",
       "      <td>10.4</td>\n",
       "    </tr>\n",
       "    <tr>\n",
       "      <th>51181</th>\n",
       "      <td>51.856</td>\n",
       "      <td>54.0</td>\n",
       "      <td>11.6</td>\n",
       "    </tr>\n",
       "    <tr>\n",
       "      <th>...</th>\n",
       "      <td>...</td>\n",
       "      <td>...</td>\n",
       "      <td>...</td>\n",
       "    </tr>\n",
       "    <tr>\n",
       "      <th>64042</th>\n",
       "      <td>31.484</td>\n",
       "      <td>11.0</td>\n",
       "      <td>11.5</td>\n",
       "    </tr>\n",
       "    <tr>\n",
       "      <th>64043</th>\n",
       "      <td>27.780</td>\n",
       "      <td>9.0</td>\n",
       "      <td>14.5</td>\n",
       "    </tr>\n",
       "    <tr>\n",
       "      <th>64044</th>\n",
       "      <td>33.336</td>\n",
       "      <td>9.0</td>\n",
       "      <td>5.5</td>\n",
       "    </tr>\n",
       "    <tr>\n",
       "      <th>64045</th>\n",
       "      <td>29.632</td>\n",
       "      <td>9.0</td>\n",
       "      <td>9.0</td>\n",
       "    </tr>\n",
       "    <tr>\n",
       "      <th>64046</th>\n",
       "      <td>25.928</td>\n",
       "      <td>23.0</td>\n",
       "      <td>11.0</td>\n",
       "    </tr>\n",
       "  </tbody>\n",
       "</table>\n",
       "<p>533 rows × 3 columns</p>\n",
       "</div>"
      ],
      "text/plain": [
       "       WindGustSpd    DR   PGT\n",
       "51177       29.632  32.0  10.2\n",
       "51178       59.264  44.0  10.2\n",
       "51179       50.004  32.0   1.1\n",
       "51180       40.744  32.0  10.4\n",
       "51181       51.856  54.0  11.6\n",
       "...            ...   ...   ...\n",
       "64042       31.484  11.0  11.5\n",
       "64043       27.780   9.0  14.5\n",
       "64044       33.336   9.0   5.5\n",
       "64045       29.632   9.0   9.0\n",
       "64046       25.928  23.0  11.0\n",
       "\n",
       "[533 rows x 3 columns]"
      ]
     },
     "execution_count": 18,
     "metadata": {},
     "output_type": "execute_result"
    }
   ],
   "source": [
    "X_processed.loc[ (X_processed['WindGustSpd'] != 0) | (X_processed['DR'] != 0) | ((X_processed['PGT'] != 0)), ['WindGustSpd', 'DR', 'PGT']]"
   ]
  },
  {
   "cell_type": "code",
   "execution_count": null,
   "id": "9b5652ee",
   "metadata": {},
   "outputs": [],
   "source": []
  }
 ],
 "metadata": {
  "kernelspec": {
   "display_name": "Kedro (linear_regression)",
   "language": "python",
   "name": "kedro_linear_regression"
  },
  "language_info": {
   "codemirror_mode": {
    "name": "ipython",
    "version": 3
   },
   "file_extension": ".py",
   "mimetype": "text/x-python",
   "name": "python",
   "nbconvert_exporter": "python",
   "pygments_lexer": "ipython3",
   "version": "3.10.11"
  },
  "toc": {
   "base_numbering": 1,
   "nav_menu": {},
   "number_sections": true,
   "sideBar": true,
   "skip_h1_title": false,
   "title_cell": "Table of Contents",
   "title_sidebar": "Contents",
   "toc_cell": false,
   "toc_position": {},
   "toc_section_display": true,
   "toc_window_display": false
  },
  "varInspector": {
   "cols": {
    "lenName": 16,
    "lenType": 16,
    "lenVar": 40
   },
   "kernels_config": {
    "python": {
     "delete_cmd_postfix": "",
     "delete_cmd_prefix": "del ",
     "library": "var_list.py",
     "varRefreshCmd": "print(var_dic_list())"
    },
    "r": {
     "delete_cmd_postfix": ") ",
     "delete_cmd_prefix": "rm(",
     "library": "var_list.r",
     "varRefreshCmd": "cat(var_dic_list()) "
    }
   },
   "types_to_exclude": [
    "module",
    "function",
    "builtin_function_or_method",
    "instance",
    "_Feature"
   ],
   "window_display": false
  }
 },
 "nbformat": 4,
 "nbformat_minor": 5
}
